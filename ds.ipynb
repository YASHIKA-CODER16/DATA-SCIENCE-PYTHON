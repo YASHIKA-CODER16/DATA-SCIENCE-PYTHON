{
 "cells": [
  {
   "cell_type": "code",
   "execution_count": 11,
   "id": "f062c65a-7ea0-4656-87b8-ca27f26c9d0a",
   "metadata": {},
   "outputs": [
    {
     "name": "stdout",
     "output_type": "stream",
     "text": [
      "\t\t\t\t\t\t\t\tWelcome to HDFC ATM\n"
     ]
    },
    {
     "name": "stdout",
     "output_type": "stream",
     "text": [
      "insert your card card\n"
     ]
    },
    {
     "name": "stdout",
     "output_type": "stream",
     "text": [
      "Welcome\n"
     ]
    },
    {
     "name": "stdout",
     "output_type": "stream",
     "text": [
      "enter your pin 1234\n"
     ]
    },
    {
     "name": "stdout",
     "output_type": "stream",
     "text": [
      "\t\t\t\t\t\t\t1)check balance\n",
      "\t\t\t\t\t\t\t2) cash withdraw\n"
     ]
    },
    {
     "name": "stdout",
     "output_type": "stream",
     "text": [
      "select your option 2\n",
      "enter your amount 100\n"
     ]
    },
    {
     "name": "stdout",
     "output_type": "stream",
     "text": [
      "your balance is :- 1234467\n"
     ]
    }
   ],
   "source": [
    "#minor real world project\n",
    "#ATM\n",
    "print(\"\\t\\t\\t\\t\\t\\t\\t\\tWelcome to HDFC ATM\")\n",
    "amount=1234567\n",
    "pin=1234\n",
    "if 'card'==input('insert your card'):\n",
    "    print('Welcome')\n",
    "    if pin==int(input(\"enter your pin\")):\n",
    "        print('\\t\\t\\t\\t\\t\\t\\t1)check balance\\n\\t\\t\\t\\t\\t\\t\\t2) cash withdraw')\n",
    "        option=int(input('select your option'))\n",
    "        if option==1:\n",
    "                         print('your current balance is:-',amount)\n",
    "        elif option==2:\n",
    "                         user_amount=int(input(\"enter your amount\"))\n",
    "                         print('your balance is :-',amount-user_amount)\n",
    "    \n",
    "                \n",
    "    else:\n",
    "        print('wrong pin')\n",
    "else:\n",
    "    print('card invalid')\n",
    "    \n"
   ]
  },
  {
   "cell_type": "code",
   "execution_count": 9,
   "id": "61179848-924f-4219-bceb-0aeaae8d0f97",
   "metadata": {},
   "outputs": [
    {
     "name": "stdout",
     "output_type": "stream",
     "text": [
      "enter first value 2\n",
      "enter second value 3\n"
     ]
    },
    {
     "name": "stdout",
     "output_type": "stream",
     "text": [
      "\t\t\t1)ADD\n",
      "\t\t\t2)SUBTRACT\n",
      "\t\t\t3)DIVISION\n",
      "\t\t\t4)MULTIPLICATION\n"
     ]
    },
    {
     "name": "stdout",
     "output_type": "stream",
     "text": [
      "select your option 4\n"
     ]
    },
    {
     "name": "stdout",
     "output_type": "stream",
     "text": [
      "multiply 6\n"
     ]
    }
   ],
   "source": [
    "#calculator\n",
    "a=int(input(\"enter first value\"))\n",
    "b=int(input(\"enter second value\"))\n",
    "print('\\t\\t\\t1)ADD\\n\\t\\t\\t2)SUBTRACT\\n\\t\\t\\t3)DIVISION\\n\\t\\t\\t4)MULTIPLICATION')\n",
    "opt=int(input(\"select your option\"))\n",
    "if opt==1:\n",
    "    c=a+b\n",
    "    print(\"add\",c)\n",
    "elif opt==2:\n",
    "    c=a-b\n",
    "    print(\"subtract\",c)\n",
    "elif opt==3:\n",
    "    c=a%b\n",
    "    print(\"divide\",c)\n",
    "else:\n",
    "    c=a*b\n",
    "    print(\"multiply\",c)\n",
    "\n"
   ]
  },
  {
   "cell_type": "code",
   "execution_count": 2,
   "id": "0d6f6476-842f-4bdc-92c1-875522fd1823",
   "metadata": {},
   "outputs": [
    {
     "name": "stdout",
     "output_type": "stream",
     "text": [
      "Enter your age:  23\n"
     ]
    },
    {
     "name": "stdout",
     "output_type": "stream",
     "text": [
      "Your ticket fare is: ₹ 100.0\n"
     ]
    }
   ],
   "source": [
    "fare = 100\n",
    "age = int(input(\"Enter your age: \"))\n",
    "\n",
    "if age <= 5:\n",
    "    discount = 100 \n",
    "elif age <= 12:\n",
    "    discount = 50   \n",
    "elif age >= 60:\n",
    "    discount = 30   \n",
    "else:\n",
    "    discount = 0 \n",
    "\n",
    "final_fare = fare - (fare * discount / 100)\n",
    "print(\"Your ticket fare is: ₹\", final_fare)\n"
   ]
  },
  {
   "cell_type": "code",
   "execution_count": 3,
   "id": "3339f9bd-db85-44bd-8a78-3e012d7e2038",
   "metadata": {},
   "outputs": [
    {
     "name": "stdout",
     "output_type": "stream",
     "text": [
      "Enter electricity units consumed:  450\n"
     ]
    },
    {
     "name": "stdout",
     "output_type": "stream",
     "text": [
      "Total Electricity Bill: ₹ 1700.0\n"
     ]
    }
   ],
   "source": [
    "units = int(input(\"Enter electricity units consumed: \"))\n",
    "bill = 0\n",
    "if units <= 100:\n",
    "    bill = units * 1.5\n",
    "elif units <= 200:\n",
    "    bill = (100 * 1.5) + ((units - 100) * 2.5)\n",
    "elif units <= 300:\n",
    "    bill = (100 * 1.5) + (100 * 2.5) + ((units - 200) * 4)\n",
    "else:\n",
    "    bill = (100 * 1.5) + (100 * 2.5) + (100 * 4) + ((units - 300) * 6)\n",
    "print(\"Total Electricity Bill: ₹\", bill)\n"
   ]
  },
  {
   "cell_type": "code",
   "execution_count": 5,
   "id": "3ed2deb0-2565-42a2-bdae-8fa7a0814ccd",
   "metadata": {},
   "outputs": [
    {
     "name": "stdout",
     "output_type": "stream",
     "text": [
      "Enter number of overdue days:  45\n"
     ]
    },
    {
     "name": "stdout",
     "output_type": "stream",
     "text": [
      "Total Library Fine: ₹ 120\n"
     ]
    }
   ],
   "source": [
    "days = int(input(\"Enter number of overdue days: \"))\n",
    "fine = 0\n",
    "\n",
    "# Calculate fine using if-else\n",
    "if days <= 5:\n",
    "    fine = 0\n",
    "elif days <= 10:\n",
    "    fine = (days - 5) * 1\n",
    "elif days <= 30:\n",
    "    fine = (5 * 1) + (days - 10) * 2\n",
    "else:\n",
    "    fine = (5 * 1) + (20 * 2) + (days - 30) * 5\n",
    "print(\"Total Library Fine: ₹\", fine)\n"
   ]
  },
  {
   "cell_type": "code",
   "execution_count": 6,
   "id": "238d3354-4846-4657-9356-bd3940594b78",
   "metadata": {},
   "outputs": [
    {
     "name": "stdout",
     "output_type": "stream",
     "text": [
      "Enter username:  yashika\n",
      "Enter password:  12345\n"
     ]
    },
    {
     "name": "stdout",
     "output_type": "stream",
     "text": [
      "Incorrect credentials. Attempts left: 2\n"
     ]
    },
    {
     "name": "stdout",
     "output_type": "stream",
     "text": [
      "Enter username:  admin\n",
      "Enter password:  12345\n"
     ]
    },
    {
     "name": "stdout",
     "output_type": "stream",
     "text": [
      "Login successful! ✅\n"
     ]
    }
   ],
   "source": [
    "correct_username = \"admin\"\n",
    "correct_password = \"12345\"\n",
    "attempts = 3\n",
    "\n",
    "while attempts > 0:\n",
    "    username = input(\"Enter username: \")\n",
    "    password = input(\"Enter password: \")\n",
    "\n",
    "    if username == correct_username and password == correct_password:\n",
    "        print(\"Login successful! ✅\")\n",
    "        break\n",
    "    else:\n",
    "        attempts -= 1\n",
    "        print(f\"Incorrect credentials. Attempts left: {attempts}\")\n",
    "        if attempts == 0:\n",
    "            print(\"Account locked.Try again later.\")\n"
   ]
  },
  {
   "cell_type": "code",
   "execution_count": 7,
   "id": "6819a882-d720-4e28-a339-8bcca646e67d",
   "metadata": {},
   "outputs": [
    {
     "name": "stdout",
     "output_type": "stream",
     "text": [
      "Enter your marks (out of 100):  99\n"
     ]
    },
    {
     "name": "stdout",
     "output_type": "stream",
     "text": [
      "Your grade is: A\n"
     ]
    }
   ],
   "source": [
    "marks = float(input(\"Enter your marks (out of 100): \"))\n",
    "\n",
    "if marks >= 90:\n",
    "    grade = 'A'\n",
    "elif marks >= 80:\n",
    "    grade = 'B'\n",
    "elif marks >= 70:\n",
    "    grade = 'C'\n",
    "elif marks >= 60:\n",
    "    grade = 'D'\n",
    "elif marks >= 50:\n",
    "    grade = 'E'\n",
    "else:\n",
    "    grade = 'F'\n",
    "\n",
    "print(\"Your grade is:\", grade)\n"
   ]
  },
  {
   "cell_type": "code",
   "execution_count": 8,
   "id": "94673fcd-a9fa-40cf-90dd-dd3cc02add02",
   "metadata": {},
   "outputs": [
    {
     "name": "stdout",
     "output_type": "stream",
     "text": [
      "Enter your age:  19\n"
     ]
    },
    {
     "name": "stdout",
     "output_type": "stream",
     "text": [
      "\n",
      "Eligibility Check:\n",
      "- Eligible to Vote ✅\n",
      "- Eligible for Driving License ✅\n",
      "- Not eligible for Drinking Alcohol ❌\n"
     ]
    }
   ],
   "source": [
    "age = int(input(\"Enter your age: \"))\n",
    "\n",
    "print(\"\\nEligibility Check:\")\n",
    "\n",
    "if age >= 18:\n",
    "    print(\"- Eligible to Vote ✅\")\n",
    "else:\n",
    "    print(\"- Not eligible to Vote ❌\")\n",
    "\n",
    "if age >= 18:\n",
    "    print(\"- Eligible for Driving License ✅\")\n",
    "else:\n",
    "    print(\"- Not eligible for Driving License ❌\")\n",
    "\n",
    "if age >= 21:\n",
    "    print(\"- Eligible for Drinking Alcohol (in some states) ✅\")\n",
    "else:\n",
    "    print(\"- Not eligible for Drinking Alcohol ❌\")\n"
   ]
  },
  {
   "cell_type": "code",
   "execution_count": 9,
   "id": "8680ff1d-c723-4e56-8dd4-7da1bca0a24b",
   "metadata": {},
   "outputs": [
    {
     "name": "stdout",
     "output_type": "stream",
     "text": [
      "\n",
      "Welcome to Python ATM\n",
      "1. Check Balance\n",
      "2. Deposit Money\n",
      "3. Withdraw Money\n",
      "4. Exit\n"
     ]
    },
    {
     "name": "stdout",
     "output_type": "stream",
     "text": [
      "Enter your choice (1-4):  1\n"
     ]
    },
    {
     "name": "stdout",
     "output_type": "stream",
     "text": [
      "Your current balance is ₹10000\n",
      "\n",
      "Welcome to Python ATM\n",
      "1. Check Balance\n",
      "2. Deposit Money\n",
      "3. Withdraw Money\n",
      "4. Exit\n"
     ]
    },
    {
     "name": "stdout",
     "output_type": "stream",
     "text": [
      "Enter your choice (1-4):  2\n",
      "Enter amount to deposit: ₹ 1000\n"
     ]
    },
    {
     "name": "stdout",
     "output_type": "stream",
     "text": [
      "₹1000.0 deposited successfully.\n",
      "Your current balance is ₹11000.0\n",
      "\n",
      "Welcome to Python ATM\n",
      "1. Check Balance\n",
      "2. Deposit Money\n",
      "3. Withdraw Money\n",
      "4. Exit\n"
     ]
    },
    {
     "name": "stdout",
     "output_type": "stream",
     "text": [
      "Enter your choice (1-4):  1\n"
     ]
    },
    {
     "name": "stdout",
     "output_type": "stream",
     "text": [
      "Your current balance is ₹11000.0\n",
      "\n",
      "Welcome to Python ATM\n",
      "1. Check Balance\n",
      "2. Deposit Money\n",
      "3. Withdraw Money\n",
      "4. Exit\n"
     ]
    },
    {
     "name": "stdout",
     "output_type": "stream",
     "text": [
      "Enter your choice (1-4):  3\n",
      "Enter amount to withdraw: ₹ 500\n"
     ]
    },
    {
     "name": "stdout",
     "output_type": "stream",
     "text": [
      "₹500.0 withdrawn successfully.\n",
      "Your current balance is ₹10500.0\n",
      "\n",
      "Welcome to Python ATM\n",
      "1. Check Balance\n",
      "2. Deposit Money\n",
      "3. Withdraw Money\n",
      "4. Exit\n"
     ]
    },
    {
     "name": "stdout",
     "output_type": "stream",
     "text": [
      "Enter your choice (1-4):  4\n"
     ]
    },
    {
     "name": "stdout",
     "output_type": "stream",
     "text": [
      "Thank you for using the ATM. Goodbye!\n"
     ]
    }
   ],
   "source": [
    "balance = 10000\n",
    "def show_menu():\n",
    "    print(\"\\nWelcome to Python ATM\")\n",
    "    print(\"1. Check Balance\")\n",
    "    print(\"2. Deposit Money\")\n",
    "    print(\"3. Withdraw Money\")\n",
    "    print(\"4. Exit\")\n",
    "def check_balance():\n",
    "    print(f\"Your current balance is ₹{balance}\")\n",
    "def deposit():\n",
    "    global balance\n",
    "    amount = float(input(\"Enter amount to deposit: ₹\"))\n",
    "    if amount > 0:\n",
    "        balance += amount\n",
    "        print(f\"₹{amount} deposited successfully.\")\n",
    "        check_balance()\n",
    "    else:\n",
    "        print(\"Invalid amount. Please try again.\")\n",
    "def withdraw():\n",
    "    global balance\n",
    "    amount = float(input(\"Enter amount to withdraw: ₹\"))\n",
    "    if amount > 0:\n",
    "        if amount <= balance:\n",
    "            balance -= amount\n",
    "            print(f\"₹{amount} withdrawn successfully.\")\n",
    "            check_balance()\n",
    "        else:\n",
    "            print(\"Insufficient balance.\")\n",
    "    else:\n",
    "        print(\"Invalid amount. Please try again.\")\n",
    "def atm():\n",
    "    while True:\n",
    "        show_menu()\n",
    "        choice = input(\"Enter your choice (1-4): \")\n",
    "        \n",
    "        if choice == '1':\n",
    "            check_balance()\n",
    "        elif choice == '2':\n",
    "            deposit()\n",
    "        elif choice == '3':\n",
    "            withdraw()\n",
    "        elif choice == '4':\n",
    "            print(\"Thank you for using the ATM. Goodbye!\")\n",
    "            break\n",
    "        else:\n",
    "            print(\"Invalid choice. Please try again.\")\n",
    "atm()\n"
   ]
  },
  {
   "cell_type": "code",
   "execution_count": null,
   "id": "b9300902-16fd-4005-b33e-3b1a1c4a79f5",
   "metadata": {},
   "outputs": [],
   "source": []
  }
 ],
 "metadata": {
  "kernelspec": {
   "display_name": "Python 3 (ipykernel)",
   "language": "python",
   "name": "python3"
  },
  "language_info": {
   "codemirror_mode": {
    "name": "ipython",
    "version": 3
   },
   "file_extension": ".py",
   "mimetype": "text/x-python",
   "name": "python",
   "nbconvert_exporter": "python",
   "pygments_lexer": "ipython3",
   "version": "3.12.7"
  }
 },
 "nbformat": 4,
 "nbformat_minor": 5
}
