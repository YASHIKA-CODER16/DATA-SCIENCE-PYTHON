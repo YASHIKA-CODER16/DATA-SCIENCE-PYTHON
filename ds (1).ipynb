{
 "cells": [
  {
   "cell_type": "code",
   "execution_count": 13,
   "id": "0ce3e768-bf4e-4aee-a4f3-4b023655c8a1",
   "metadata": {},
   "outputs": [
    {
     "name": "stdout",
     "output_type": "stream",
     "text": [
      "error\n"
     ]
    }
   ],
   "source": [
    "c=['Syntax','found',[[[[34,43,43]],[[],['Nice','error']]]]]\n",
    "print(c[2][0][1][1][1])"
   ]
  },
  {
   "cell_type": "code",
   "execution_count": 1,
   "id": "fb85ea39-dc86-4595-8d44-310de9177b5d",
   "metadata": {},
   "outputs": [
    {
     "name": "stdout",
     "output_type": "stream",
     "text": [
      "all good\n"
     ]
    }
   ],
   "source": [
    "if 100==100:\n",
    "    print(\"all good\")\n",
    "else:\n",
    "    print(\"not good\")"
   ]
  },
  {
   "cell_type": "code",
   "execution_count": 2,
   "id": "3d8a88b6-bc3e-408a-97a4-a72fbeedf541",
   "metadata": {},
   "outputs": [
    {
     "name": "stdout",
     "output_type": "stream",
     "text": [
      "all nice\n"
     ]
    }
   ],
   "source": [
    "if 100==176576400:\n",
    "    print(\"all good\")\n",
    "elif 100==100:\n",
    "    print(\"all nice\")\n",
    "else:\n",
    "    print(\"not good\")"
   ]
  },
  {
   "cell_type": "code",
   "execution_count": 1,
   "id": "f292ab71-806d-4a44-ab00-ad9944cea01a",
   "metadata": {},
   "outputs": [
    {
     "name": "stdout",
     "output_type": "stream",
     "text": [
      "hi all\n",
      "time\n",
      "good\n"
     ]
    }
   ],
   "source": [
    "if 200<300:\n",
    "    print(\"hi all\")\n",
    "    if 500!=500:\n",
    "        print(\"not\")\n",
    "    elif 599>200:\n",
    "        print(\"time\")\n",
    "        if 1234==234:\n",
    "            print(\"hi\")\n",
    "        else:\n",
    "            print(\"good\")\n",
    "else:\n",
    "    print(\"class\")\n"
   ]
  },
  {
   "cell_type": "code",
   "execution_count": 11,
   "id": "f062c65a-7ea0-4656-87b8-ca27f26c9d0a",
   "metadata": {},
   "outputs": [
    {
     "name": "stdout",
     "output_type": "stream",
     "text": [
      "\t\t\t\t\t\t\t\tWelcome to HDFC ATM\n"
     ]
    },
    {
     "name": "stdin",
     "output_type": "stream",
     "text": [
      "insert your card card\n"
     ]
    },
    {
     "name": "stdout",
     "output_type": "stream",
     "text": [
      "Welcome\n"
     ]
    },
    {
     "name": "stdin",
     "output_type": "stream",
     "text": [
      "enter your pin 1234\n"
     ]
    },
    {
     "name": "stdout",
     "output_type": "stream",
     "text": [
      "\t\t\t\t\t\t\t1)check balance\n",
      "\t\t\t\t\t\t\t2) cash withdraw\n"
     ]
    },
    {
     "name": "stdin",
     "output_type": "stream",
     "text": [
      "select your option 2\n",
      "enter your amount 100\n"
     ]
    },
    {
     "name": "stdout",
     "output_type": "stream",
     "text": [
      "your balance is :- 1234467\n"
     ]
    }
   ],
   "source": [
    "#one tab(\\t) contain 4 spaces, a=input(what you want to ask from user) by default contain string value so we have to type cast first\n",
    "#minor real world project\n",
    "#ATM\n",
    "print(\"\\t\\t\\t\\t\\t\\t\\t\\tWelcome to HDFC ATM\")\n",
    "amount=1234567\n",
    "pin=1234\n",
    "if 'card'==input('insert your card'):\n",
    "    print('Welcome')\n",
    "    if pin==int(input(\"enter your pin\")):\n",
    "        print('\\t\\t\\t\\t\\t\\t\\t1)check balance\\n\\t\\t\\t\\t\\t\\t\\t2) cash withdraw')\n",
    "        option=int(input('select your option'))\n",
    "        if option==1:\n",
    "                         print('your current balance is:-',amount)\n",
    "        elif option==2:\n",
    "                         user_amount=int(input(\"enter your amount\"))\n",
    "                         print('your balance is :-',amount-user_amount)\n",
    "    \n",
    "                \n",
    "    else:\n",
    "        print('wrong pin')\n",
    "else:\n",
    "    print('card invalid')\n",
    "    \n"
   ]
  },
  {
   "cell_type": "code",
   "execution_count": 9,
   "id": "61179848-924f-4219-bceb-0aeaae8d0f97",
   "metadata": {},
   "outputs": [
    {
     "name": "stdin",
     "output_type": "stream",
     "text": [
      "enter first value 2\n",
      "enter second value 3\n"
     ]
    },
    {
     "name": "stdout",
     "output_type": "stream",
     "text": [
      "\t\t\t1)ADD\n",
      "\t\t\t2)SUBTRACT\n",
      "\t\t\t3)DIVISION\n",
      "\t\t\t4)MULTIPLICATION\n"
     ]
    },
    {
     "name": "stdin",
     "output_type": "stream",
     "text": [
      "select your option 4\n"
     ]
    },
    {
     "name": "stdout",
     "output_type": "stream",
     "text": [
      "multiply 6\n"
     ]
    }
   ],
   "source": [
    "#calculator\n",
    "a=int(input(\"enter first value\"))\n",
    "b=int(input(\"enter second value\"))\n",
    "print('\\t\\t\\t1)ADD\\n\\t\\t\\t2)SUBTRACT\\n\\t\\t\\t3)DIVISION\\n\\t\\t\\t4)MULTIPLICATION')\n",
    "opt=int(input(\"select your option\"))\n",
    "if opt==1:\n",
    "    c=a+b\n",
    "    print(\"add\",c)\n",
    "elif opt==2:\n",
    "    c=a-b\n",
    "    print(\"subtract\",c)\n",
    "elif opt==3:\n",
    "    c=a%b\n",
    "    print(\"divide\",c)\n",
    "else:\n",
    "    c=a*b\n",
    "    print(\"multiply\",c)\n",
    "\n"
   ]
  },
  {
   "cell_type": "code",
   "execution_count": 11,
   "id": "d0f13d8f-8683-4ec9-9fd2-4767c4ac61bc",
   "metadata": {},
   "outputs": [
    {
     "name": "stdout",
     "output_type": "stream",
     "text": [
      "0\n",
      "1\n",
      "2\n",
      "3\n",
      "4\n",
      "5\n",
      "6\n",
      "7\n",
      "8\n",
      "9\n"
     ]
    }
   ],
   "source": [
    "#for loop if used for int use range word bcz int is not iterable\n",
    "a=10\n",
    "for i in range(a):\n",
    "    print(i)"
   ]
  },
  {
   "cell_type": "code",
   "execution_count": 12,
   "id": "40655fdc-5328-450e-a803-63c2f850ef36",
   "metadata": {},
   "outputs": [
    {
     "name": "stdout",
     "output_type": "stream",
     "text": [
      "r\n",
      "a\n",
      "m\n",
      "a\n",
      "n\n"
     ]
    }
   ],
   "source": [
    "for i in \"raman\":\n",
    "    print(i)"
   ]
  },
  {
   "cell_type": "code",
   "execution_count": 16,
   "id": "52032a50-cd20-4edc-bc23-6ce10790b300",
   "metadata": {},
   "outputs": [
    {
     "name": "stdout",
     "output_type": "stream",
     "text": [
      "[2, 4, 6, 8, 10]\n",
      "[1, 3, 5, 7, 9]\n"
     ]
    }
   ],
   "source": [
    "a=[1,2,3,4,5,6,7,8,9,10]\n",
    "even=[]\n",
    "odd=[]\n",
    "for i in a:\n",
    "    if (i%2==0):\n",
    "        even.append(i)\n",
    "    else:\n",
    "        odd.append(i)\n",
    "print(even)\n",
    "print(odd)\n",
    "\n",
    "\n",
    "        "
   ]
  },
  {
   "cell_type": "code",
   "execution_count": 3,
   "id": "e3e007ae-45b8-4d1f-80d3-7296d4442ce9",
   "metadata": {},
   "outputs": [
    {
     "name": "stdout",
     "output_type": "stream",
     "text": [
      "even sum 1704\n",
      "odd sum 13782\n"
     ]
    }
   ],
   "source": [
    "g=[12,324,5321,12,4215,1234,122,33,4213]\n",
    "even=0\n",
    "odd=0\n",
    "for i in g:\n",
    "    if (i%2==0):\n",
    "        even+=i\n",
    "    else:\n",
    "        odd+=i\n",
    "        \n",
    "print(\"even sum\",even)\n",
    "print(\"odd sum\",odd)\n"
   ]
  },
  {
   "cell_type": "code",
   "execution_count": 7,
   "id": "60e66ba5-846e-41d2-a91f-27959f4a70e3",
   "metadata": {},
   "outputs": [
    {
     "name": "stdout",
     "output_type": "stream",
     "text": [
      "sum 15\n"
     ]
    }
   ],
   "source": [
    "t=[1,2,3,4,5]\n",
    "sum=0\n",
    "for i in t:\n",
    "    sum+=i\n",
    "print(\"sum\",sum)"
   ]
  },
  {
   "cell_type": "code",
   "execution_count": 9,
   "id": "91eceac1-dc74-4be7-aaf8-1062d7266be8",
   "metadata": {},
   "outputs": [
    {
     "name": "stdout",
     "output_type": "stream",
     "text": [
      "a\n",
      "d\n",
      "g\n",
      "h\n",
      "i\n",
      "e\n",
      "g\n",
      "h\n",
      "i\n",
      "f\n",
      "g\n",
      "h\n",
      "i\n",
      "b\n",
      "d\n",
      "g\n",
      "h\n",
      "i\n",
      "e\n",
      "g\n",
      "h\n",
      "i\n",
      "f\n",
      "g\n",
      "h\n",
      "i\n",
      "c\n",
      "d\n",
      "g\n",
      "h\n",
      "i\n",
      "e\n",
      "g\n",
      "h\n",
      "i\n",
      "f\n",
      "g\n",
      "h\n",
      "i\n"
     ]
    }
   ],
   "source": [
    "for i in \"abc\":\n",
    "    print(i)\n",
    "    for k in \"def\":\n",
    "        print(k)\n",
    "        for j in \"ghi\":\n",
    "            print(j)"
   ]
  },
  {
   "cell_type": "code",
   "execution_count": 27,
   "id": "225d3ce1-f71d-4e60-8bbf-0dfd92314209",
   "metadata": {},
   "outputs": [
    {
     "name": "stdin",
     "output_type": "stream",
     "text": [
      "Enter word:  back\n"
     ]
    },
    {
     "name": "stdout",
     "output_type": "stream",
     "text": [
      "b-2\n",
      "a-1\n",
      "c-3\n",
      "k-11\n"
     ]
    }
   ],
   "source": [
    "word = input(\"Enter word: \").lower()\n",
    "\n",
    "letters = {\n",
    "    'a': 1, 'b': 2, 'c': 3, 'd': 4, 'e': 5, 'f': 6,\n",
    "    'g': 7, 'h': 8, 'i': 9, 'j': 10, 'k': 11, 'l': 12,\n",
    "    'm': 13, 'n': 14, 'o': 15, 'p': 16, 'q': 17, 'r': 18,\n",
    "    's': 19, 't': 20, 'u': 21, 'v': 22, 'w': 23, 'x': 24,\n",
    "    'y': 25, 'z': 26\n",
    "}\n",
    "\n",
    "for ch in word:\n",
    "    print(ch + \"-\" + str(letters[ch]))\n"
   ]
  },
  {
   "cell_type": "code",
   "execution_count": 2,
   "id": "8a4ddfec-0788-4ea5-98cb-7917b4564467",
   "metadata": {},
   "outputs": [
    {
     "name": "stdin",
     "output_type": "stream",
     "text": [
      "enter word back\n"
     ]
    },
    {
     "name": "stdout",
     "output_type": "stream",
     "text": [
      "2\n",
      "1\n",
      "3\n",
      "11\n"
     ]
    }
   ],
   "source": [
    "z=input(\"enter word\")\n",
    "alpha=\" abcdefghijklmnopqrstuvwxyz\"\n",
    "for i in z:\n",
    "    if i in alpha:\n",
    "        store=alpha.index(i)\n",
    "        print(store)"
   ]
  },
  {
   "cell_type": "code",
   "execution_count": 3,
   "id": "68c41a2f-222d-4f7c-8344-ee5eec90bb3c",
   "metadata": {},
   "outputs": [
    {
     "name": "stdout",
     "output_type": "stream",
     "text": [
      "[23, [[100]]]\n"
     ]
    }
   ],
   "source": [
    "a=[23,[[]]]\n",
    "b=a[1][0]\n",
    "b.append(100)\n",
    "print(a)\n"
   ]
  },
  {
   "cell_type": "code",
   "execution_count": 19,
   "id": "46f4d5bb-00bd-4e61-bf39-9db8e2e1483b",
   "metadata": {},
   "outputs": [
    {
     "name": "stdout",
     "output_type": "stream",
     "text": [
      "[[[], [], [[[]], [10]]]]\n"
     ]
    }
   ],
   "source": [
    "a=[[[],[],[[[]],[]]]]\n",
    "b=a[0][2][1]\n",
    "b.append(10)\n",
    "print(a)\n"
   ]
  },
  {
   "cell_type": "code",
   "execution_count": null,
   "id": "99b68ba0-eada-4529-b4bf-0fe2d2ccd7b2",
   "metadata": {},
   "outputs": [],
   "source": [
    "def raman():#parameter\n",
    "    statement\n",
    "raman()\n",
    "def student(a,b)\n",
    "\n"
   ]
  },
  {
   "cell_type": "code",
   "execution_count": 24,
   "id": "9bf91880-70dd-4b7c-a441-491c78f4f020",
   "metadata": {},
   "outputs": [
    {
     "name": "stdout",
     "output_type": "stream",
     "text": [
      "20\n"
     ]
    }
   ],
   "source": [
    "#return ke baad kuch bhi execute nh hota bcz code terminate hojat ah return pr\n",
    "def geek():\n",
    "    return 20\n",
    "    print(\"hello\")\n",
    "t=geek()\n",
    "print(t)"
   ]
  },
  {
   "cell_type": "code",
   "execution_count": 25,
   "id": "1df15cac-002f-4041-b6c9-8962a7973c15",
   "metadata": {},
   "outputs": [
    {
     "ename": "TypeError",
     "evalue": "'list' object is not callable",
     "output_type": "error",
     "traceback": [
      "\u001b[1;31m---------------------------------------------------------------------------\u001b[0m",
      "\u001b[1;31mTypeError\u001b[0m                                 Traceback (most recent call last)",
      "Cell \u001b[1;32mIn[25], line 1\u001b[0m\n\u001b[1;32m----> 1\u001b[0m a()\n\u001b[0;32m      2\u001b[0m \u001b[38;5;28;01mdef\u001b[39;00m \u001b[38;5;21ma\u001b[39m():\n\u001b[0;32m      3\u001b[0m     \u001b[38;5;28mprint\u001b[39m(\u001b[38;5;124m'\u001b[39m\u001b[38;5;124mhello\u001b[39m\u001b[38;5;124m'\u001b[39m)\n",
      "\u001b[1;31mTypeError\u001b[0m: 'list' object is not callable"
     ]
    }
   ],
   "source": [
    "a()\n",
    "def a():\n",
    "    print('hello')#gives error kyuki phle call krdia fir define kra h"
   ]
  },
  {
   "cell_type": "code",
   "execution_count": 30,
   "id": "11deb7fa-5c2b-4a24-b77e-a3b8930b904b",
   "metadata": {},
   "outputs": [
    {
     "name": "stdout",
     "output_type": "stream",
     "text": [
      "hello\n",
      "hi\n"
     ]
    },
    {
     "data": {
      "text/plain": [
       "'bye'"
      ]
     },
     "execution_count": 30,
     "metadata": {},
     "output_type": "execute_result"
    }
   ],
   "source": [
    "def a():\n",
    "    print('hello')\n",
    "    b()\n",
    "    return 'bye'\n",
    "def b():\n",
    "    print('hi')\n",
    "a()"
   ]
  },
  {
   "cell_type": "code",
   "execution_count": 2,
   "id": "0d6f6476-842f-4bdc-92c1-875522fd1823",
   "metadata": {},
   "outputs": [
    {
     "name": "stdin",
     "output_type": "stream",
     "text": [
      "Enter your age:  23\n"
     ]
    },
    {
     "name": "stdout",
     "output_type": "stream",
     "text": [
      "Your ticket fare is: ₹ 100.0\n"
     ]
    }
   ],
   "source": [
    "fare = 100\n",
    "age = int(input(\"Enter your age: \"))\n",
    "\n",
    "if age <= 5:\n",
    "    discount = 100 \n",
    "elif age <= 12:\n",
    "    discount = 50   \n",
    "elif age >= 60:\n",
    "    discount = 30   \n",
    "else:\n",
    "    discount = 0 \n",
    "\n",
    "final_fare = fare - (fare * discount / 100)\n",
    "print(\"Your ticket fare is: ₹\", final_fare)\n"
   ]
  },
  {
   "cell_type": "code",
   "execution_count": 3,
   "id": "3339f9bd-db85-44bd-8a78-3e012d7e2038",
   "metadata": {},
   "outputs": [
    {
     "name": "stdin",
     "output_type": "stream",
     "text": [
      "Enter electricity units consumed:  450\n"
     ]
    },
    {
     "name": "stdout",
     "output_type": "stream",
     "text": [
      "Total Electricity Bill: ₹ 1700.0\n"
     ]
    }
   ],
   "source": [
    "units = int(input(\"Enter electricity units consumed: \"))\n",
    "bill = 0\n",
    "if units <= 100:\n",
    "    bill = units * 1.5\n",
    "elif units <= 200:\n",
    "    bill = (100 * 1.5) + ((units - 100) * 2.5)\n",
    "elif units <= 300:\n",
    "    bill = (100 * 1.5) + (100 * 2.5) + ((units - 200) * 4)\n",
    "else:\n",
    "    bill = (100 * 1.5) + (100 * 2.5) + (100 * 4) + ((units - 300) * 6)\n",
    "print(\"Total Electricity Bill: ₹\", bill)\n"
   ]
  },
  {
   "cell_type": "code",
   "execution_count": 5,
   "id": "3ed2deb0-2565-42a2-bdae-8fa7a0814ccd",
   "metadata": {},
   "outputs": [
    {
     "name": "stdin",
     "output_type": "stream",
     "text": [
      "Enter number of overdue days:  45\n"
     ]
    },
    {
     "name": "stdout",
     "output_type": "stream",
     "text": [
      "Total Library Fine: ₹ 120\n"
     ]
    }
   ],
   "source": [
    "days = int(input(\"Enter number of overdue days: \"))\n",
    "fine = 0\n",
    "\n",
    "# Calculate fine using if-else\n",
    "if days <= 5:\n",
    "    fine = 0\n",
    "elif days <= 10:\n",
    "    fine = (days - 5) * 1\n",
    "elif days <= 30:\n",
    "    fine = (5 * 1) + (days - 10) * 2\n",
    "else:\n",
    "    fine = (5 * 1) + (20 * 2) + (days - 30) * 5\n",
    "print(\"Total Library Fine: ₹\", fine)\n"
   ]
  },
  {
   "cell_type": "code",
   "execution_count": 6,
   "id": "238d3354-4846-4657-9356-bd3940594b78",
   "metadata": {},
   "outputs": [
    {
     "name": "stdin",
     "output_type": "stream",
     "text": [
      "Enter username:  yashika\n",
      "Enter password:  12345\n"
     ]
    },
    {
     "name": "stdout",
     "output_type": "stream",
     "text": [
      "Incorrect credentials. Attempts left: 2\n"
     ]
    },
    {
     "name": "stdin",
     "output_type": "stream",
     "text": [
      "Enter username:  admin\n",
      "Enter password:  12345\n"
     ]
    },
    {
     "name": "stdout",
     "output_type": "stream",
     "text": [
      "Login successful! ✅\n"
     ]
    }
   ],
   "source": [
    "correct_username = \"admin\"\n",
    "correct_password = \"12345\"\n",
    "attempts = 3\n",
    "\n",
    "while attempts > 0:\n",
    "    username = input(\"Enter username: \")\n",
    "    password = input(\"Enter password: \")\n",
    "\n",
    "    if username == correct_username and password == correct_password:\n",
    "        print(\"Login successful! ✅\")\n",
    "        break\n",
    "    else:\n",
    "        attempts -= 1\n",
    "        print(f\"Incorrect credentials. Attempts left: {attempts}\")\n",
    "        if attempts == 0:\n",
    "            print(\"Account locked.Try again later.\")\n"
   ]
  },
  {
   "cell_type": "code",
   "execution_count": 7,
   "id": "6819a882-d720-4e28-a339-8bcca646e67d",
   "metadata": {},
   "outputs": [
    {
     "name": "stdin",
     "output_type": "stream",
     "text": [
      "Enter your marks (out of 100):  99\n"
     ]
    },
    {
     "name": "stdout",
     "output_type": "stream",
     "text": [
      "Your grade is: A\n"
     ]
    }
   ],
   "source": [
    "marks = float(input(\"Enter your marks (out of 100): \"))\n",
    "\n",
    "if marks >= 90:\n",
    "    grade = 'A'\n",
    "elif marks >= 80:\n",
    "    grade = 'B'\n",
    "elif marks >= 70:\n",
    "    grade = 'C'\n",
    "elif marks >= 60:\n",
    "    grade = 'D'\n",
    "elif marks >= 50:\n",
    "    grade = 'E'\n",
    "else:\n",
    "    grade = 'F'\n",
    "\n",
    "print(\"Your grade is:\", grade)\n"
   ]
  },
  {
   "cell_type": "code",
   "execution_count": 8,
   "id": "94673fcd-a9fa-40cf-90dd-dd3cc02add02",
   "metadata": {},
   "outputs": [
    {
     "name": "stdin",
     "output_type": "stream",
     "text": [
      "Enter your age:  19\n"
     ]
    },
    {
     "name": "stdout",
     "output_type": "stream",
     "text": [
      "\n",
      "Eligibility Check:\n",
      "- Eligible to Vote ✅\n",
      "- Eligible for Driving License ✅\n",
      "- Not eligible for Drinking Alcohol ❌\n"
     ]
    }
   ],
   "source": [
    "age = int(input(\"Enter your age: \"))\n",
    "\n",
    "print(\"\\nEligibility Check:\")\n",
    "\n",
    "if age >= 18:\n",
    "    print(\"- Eligible to Vote ✅\")\n",
    "else:\n",
    "    print(\"- Not eligible to Vote ❌\")\n",
    "\n",
    "if age >= 18:\n",
    "    print(\"- Eligible for Driving License ✅\")\n",
    "else:\n",
    "    print(\"- Not eligible for Driving License ❌\")\n",
    "\n",
    "if age >= 21:\n",
    "    print(\"- Eligible for Drinking Alcohol (in some states) ✅\")\n",
    "else:\n",
    "    print(\"- Not eligible for Drinking Alcohol ❌\")\n"
   ]
  },
  {
   "cell_type": "code",
   "execution_count": 9,
   "id": "8680ff1d-c723-4e56-8dd4-7da1bca0a24b",
   "metadata": {},
   "outputs": [
    {
     "name": "stdout",
     "output_type": "stream",
     "text": [
      "\n",
      "Welcome to Python ATM\n",
      "1. Check Balance\n",
      "2. Deposit Money\n",
      "3. Withdraw Money\n",
      "4. Exit\n"
     ]
    },
    {
     "name": "stdin",
     "output_type": "stream",
     "text": [
      "Enter your choice (1-4):  1\n"
     ]
    },
    {
     "name": "stdout",
     "output_type": "stream",
     "text": [
      "Your current balance is ₹10000\n",
      "\n",
      "Welcome to Python ATM\n",
      "1. Check Balance\n",
      "2. Deposit Money\n",
      "3. Withdraw Money\n",
      "4. Exit\n"
     ]
    },
    {
     "name": "stdin",
     "output_type": "stream",
     "text": [
      "Enter your choice (1-4):  2\n",
      "Enter amount to deposit: ₹ 1000\n"
     ]
    },
    {
     "name": "stdout",
     "output_type": "stream",
     "text": [
      "₹1000.0 deposited successfully.\n",
      "Your current balance is ₹11000.0\n",
      "\n",
      "Welcome to Python ATM\n",
      "1. Check Balance\n",
      "2. Deposit Money\n",
      "3. Withdraw Money\n",
      "4. Exit\n"
     ]
    },
    {
     "name": "stdin",
     "output_type": "stream",
     "text": [
      "Enter your choice (1-4):  1\n"
     ]
    },
    {
     "name": "stdout",
     "output_type": "stream",
     "text": [
      "Your current balance is ₹11000.0\n",
      "\n",
      "Welcome to Python ATM\n",
      "1. Check Balance\n",
      "2. Deposit Money\n",
      "3. Withdraw Money\n",
      "4. Exit\n"
     ]
    },
    {
     "name": "stdin",
     "output_type": "stream",
     "text": [
      "Enter your choice (1-4):  3\n",
      "Enter amount to withdraw: ₹ 500\n"
     ]
    },
    {
     "name": "stdout",
     "output_type": "stream",
     "text": [
      "₹500.0 withdrawn successfully.\n",
      "Your current balance is ₹10500.0\n",
      "\n",
      "Welcome to Python ATM\n",
      "1. Check Balance\n",
      "2. Deposit Money\n",
      "3. Withdraw Money\n",
      "4. Exit\n"
     ]
    },
    {
     "name": "stdin",
     "output_type": "stream",
     "text": [
      "Enter your choice (1-4):  4\n"
     ]
    },
    {
     "name": "stdout",
     "output_type": "stream",
     "text": [
      "Thank you for using the ATM. Goodbye!\n"
     ]
    }
   ],
   "source": [
    "balance = 10000\n",
    "def show_menu():\n",
    "    print(\"\\nWelcome to Python ATM\")\n",
    "    print(\"1. Check Balance\")\n",
    "    print(\"2. Deposit Money\")\n",
    "    print(\"3. Withdraw Money\")\n",
    "    print(\"4. Exit\")\n",
    "def check_balance():\n",
    "    print(f\"Your current balance is ₹{balance}\")\n",
    "def deposit():\n",
    "    global balance\n",
    "    amount = float(input(\"Enter amount to deposit: ₹\"))\n",
    "    if amount > 0:\n",
    "        balance += amount\n",
    "        print(f\"₹{amount} deposited successfully.\")\n",
    "        check_balance()\n",
    "    else:\n",
    "        print(\"Invalid amount. Please try again.\")\n",
    "def withdraw():\n",
    "    global balance\n",
    "    amount = float(input(\"Enter amount to withdraw: ₹\"))\n",
    "    if amount > 0:\n",
    "        if amount <= balance:\n",
    "            balance -= amount\n",
    "            print(f\"₹{amount} withdrawn successfully.\")\n",
    "            check_balance()\n",
    "        else:\n",
    "            print(\"Insufficient balance.\")\n",
    "    else:\n",
    "        print(\"Invalid amount. Please try again.\")\n",
    "def atm():\n",
    "    while True:\n",
    "        show_menu()\n",
    "        choice = input(\"Enter your choice (1-4): \")\n",
    "        \n",
    "        if choice == '1':\n",
    "            check_balance()\n",
    "        elif choice == '2':\n",
    "            deposit()\n",
    "        elif choice == '3':\n",
    "            withdraw()\n",
    "        elif choice == '4':\n",
    "            print(\"Thank you for using the ATM. Goodbye!\")\n",
    "            break\n",
    "        else:\n",
    "            print(\"Invalid choice. Please try again.\")\n",
    "atm()\n"
   ]
  },
  {
   "cell_type": "code",
   "execution_count": null,
   "id": "b9300902-16fd-4005-b33e-3b1a1c4a79f5",
   "metadata": {},
   "outputs": [],
   "source": []
  }
 ],
 "metadata": {
  "kernelspec": {
   "display_name": "Python 3 (ipykernel)",
   "language": "python",
   "name": "python3"
  },
  "language_info": {
   "codemirror_mode": {
    "name": "ipython",
    "version": 3
   },
   "file_extension": ".py",
   "mimetype": "text/x-python",
   "name": "python",
   "nbconvert_exporter": "python",
   "pygments_lexer": "ipython3",
   "version": "3.12.7"
  }
 },
 "nbformat": 4,
 "nbformat_minor": 5
}
